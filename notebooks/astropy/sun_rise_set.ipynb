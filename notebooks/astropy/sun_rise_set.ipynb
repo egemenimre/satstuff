{
 "cells": [
  {
   "cell_type": "markdown",
   "metadata": {},
   "source": [
    "# Compute Sun and Moon Altitude for a Location with `astropy` - Pt. 2\n",
    "\n",
    "The [previous part](https://github.com/egemenimre/satstuff/blob/master/notebooks/astropy/Sun_Moon_Alt.ipynb) demonstrated how to set up a simple Sun and Moon Altitude calculator for a location on Earth. This second part will focus on using interpolators to estimate the Sun rise/set times as well as max/min altitudes and times.\n",
    "\n",
    "The configuration is similar to the [previous part](https://github.com/egemenimre/satstuff/blob/master/notebooks/astropy/Sun_Moon_Alt.ipynb), so I will not go into detailed explanations:"
   ]
  },
  {
   "cell_type": "code",
   "execution_count": 2,
   "metadata": {},
   "outputs": [],
   "source": [
    "from astropy.coordinates import EarthLocation\n",
    "from astropy import units as u\n",
    "from astropy.time import Time, TimeDelta\n",
    "\n",
    "import pytz\n",
    "\n",
    "# Init location - default Ellipsoid is WGS84\n",
    "istanbul = EarthLocation(lat=41.015137, lon=28.979530, height=0 * u.m)\n",
    "ist_timezone = pytz.timezone(\"Turkey\")\n",
    "utc_timezone = pytz.timezone(\"utc\")\n",
    "\n",
    "# Time analysis config (stepsize, duration, init time)\n",
    "init_time = Time(\"2020-04-12T00:00:00\", scale=\"utc\")\n",
    "dt = TimeDelta(10 * 60.0, format=\"sec\")  # stepsize\n",
    "duration = TimeDelta(1.0, format=\"jd\")  # duration"
   ]
  },
  {
   "cell_type": "markdown",
   "metadata": {},
   "source": [
    "Next step is to set up the Alt-Az frames for each time step and initialise the Sun vectors in these Alt-Az frames. Note that, the `get_sun` method generates _apparent_ (i.e., corrected for light time and stellar aberrations) vectors with relatively low accuracy (though more than accurate enough for our purposes)."
   ]
  },
  {
   "cell_type": "code",
   "execution_count": 3,
   "metadata": {},
   "outputs": [],
   "source": [
    "import numpy as np\n",
    "from astropy.coordinates import AltAz, get_sun\n",
    "\n",
    "# Generate observation time list\n",
    "dt_list = dt * np.arange(0, duration.sec / dt.sec, 1)\n",
    "obs_times: Time = init_time + dt_list\n",
    "\n",
    "# Init the frames for each time\n",
    "alt_az_frames: AltAz = AltAz(location=istanbul, obstime=obs_times)\n",
    "    \n",
    "# Generate the Sun coords (low precision apparent pos) in Alt Az\n",
    "sun_alt_az_list = get_sun(obs_times).transform_to(alt_az_frames)"
   ]
  },
  {
   "cell_type": "markdown",
   "metadata": {},
   "source": [
    "So far, so previous part. Now, we will set up the interpolators to convert the discrete time vs. altitude values to a continuous function approximating this data set. This is via the `interpolation` engine from Scipy. This reasonably common interface has a number different implementations.\n",
    "\n",
    "However, the first step is to flatten the `Time` objects into simple floats (in our case unixtime). Note that this might involve some loss of precision - `Time` object practically can hold up to two floats to represent a single time instant, whereas unixtime is a single float.\n"
   ]
  },
  {
   "cell_type": "code",
   "execution_count": 4,
   "metadata": {},
   "outputs": [],
   "source": [
    "from scipy import interpolate\n",
    "\n",
    "# Convert time list into a float list for use with the interpolator (possible loss of precision)\n",
    "t__float_list = sun_alt_az_list.obstime.to_value(\"unix\")\n",
    "\n",
    "# Init interpolators (for splines, root finding possible for 3rd degree (cubics) only)\n",
    "sun_alt_interpolator = interpolate.Akima1DInterpolator(t__float_list, sun_alt_az_list.alt.deg)\n",
    "sun_interpolator_deriv_alt = sun_alt_interpolator.derivative()"
   ]
  },
  {
   "cell_type": "markdown",
   "metadata": {},
   "source": [
    "While we have used `Akima1DInterpolator`, there is ample choice of interpolators offered by Scipy. Also note that we have immediately taken the derivative of this interpolator function. This will come handy later. \n",
    "\n",
    "Be advised that Spline Interpolators support root finding for 3<sup>rd</sup> degree only - and once you take the derivative of a 3<sup>rd</sup> order, you end up with a 2<sup>nd</sup> order and you cannot take roots any more. Important if you want to find the second roots (e.g. max/min of a function).\n",
    "\n",
    "Now that we have the interpolators, let's check whether they agree with the true result. For this, we evaluate the interpolated altitude at a specific time with the true Sun altitude. The time is intentionally chosen randomly to make sure we don't hit any know points. You can try it and see how much you differ from the true result. You can also change the `dt` paramter above to see whether a coarser sampling actually worsens the quality of the interpolation. "
   ]
  },
  {
   "cell_type": "code",
   "execution_count": 5,
   "metadata": {},
   "outputs": [
    {
     "name": "stdout",
     "output_type": "stream",
     "text": [
      "Sample interpolation result at 2020-04-12 11:04:23.312210+03:00\n",
      "Sun true alt (deg)        : 48.277255902312945\n",
      "Sun interpolated alt (deg): 48.277306486311105\n"
     ]
    }
   ],
   "source": [
    "interp_time: Time = Time(\"2020-04-12 08:04:23.31221\", scale=\"utc\")\n",
    "\n",
    "# Compute interpolated altitude\n",
    "sun_interp_alt = sun_alt_interpolator(interp_time.to_datetime(utc_timezone).timestamp())\n",
    "\n",
    "# Compare with true altitude\n",
    "print(f\"Sample interpolation result at {interp_time.to_datetime(ist_timezone)}\")\n",
    "print(\n",
    "    f\"Sun true alt (deg)        : {get_sun(interp_time).transform_to(AltAz(location=istanbul, obstime=interp_time)).alt.deg}\")\n",
    "print(f\"Sun interpolated alt (deg): {sun_interp_alt}\")"
   ]
  },
  {
   "cell_type": "markdown",
   "metadata": {},
   "source": [
    "Checking the results, it looks like they agree to about 0.05 millidegree level. Should be more than enough for most applications.\n",
    "\n",
    "Going back to our initial aim, we would like to find the sunrise, sunset and sun max/min altitude times. Mathematically, the first two corresponds to the _roots_ of this function, where its altitude value is equal to zero. Fortunately, the interpolator readily offers them through the roots() function.\n",
    "\n",
    "Each root is a sunrise or sunset event, but we don't know which is which. We go through the roots and check the derivatives at these instances. If the first derivative value at the root is positive, the altitude values are increasing - the sun is rising. If the derivative is negative, the sun is going down. So we know which root corresponds to which event.\n",
    "\n",
    "Finally, note the switch between unixtime float and Astropy `Time` object, while being careful for the local timezone and [UTC](https://en.wikipedia.org/wiki/Coordinated_Universal_Time)."
   ]
  },
  {
   "cell_type": "code",
   "execution_count": 6,
   "metadata": {},
   "outputs": [
    {
     "name": "stdout",
     "output_type": "stream",
     "text": [
      "Sunrise time:\n",
      "2020-04-12 06:33:48.766705+03:00\n",
      "Sunset time:\n",
      "2020-04-12 19:36:27.265486+03:00\n"
     ]
    }
   ],
   "source": [
    "rise_set_events = sun_alt_interpolator.roots()\n",
    "for event_time in rise_set_events:\n",
    "    deriv = sun_interpolator_deriv_alt(event_time)\n",
    "    if deriv > 0:\n",
    "        sun_rise_time = Time(event_time, format=\"unix\", scale=\"utc\")\n",
    "        print(\"Sunrise time:\")\n",
    "    else:\n",
    "        sun_set_time = Time(event_time, format=\"unix\", scale=\"utc\")\n",
    "        print(\"Sunset time:\")\n",
    "    print(Time(event_time, format=\"unix\", scale=\"utc\").to_datetime(timezone=ist_timezone))"
   ]
  },
  {
   "cell_type": "markdown",
   "metadata": {},
   "source": [
    "We do a similar trick to find the max/min times. We check the roots of the _derivative_ interpolator, which gives us the max/min points. To understand which is which, we check which one have a positive altitude at this time and which one has the negative.\n",
    "\n",
    "Be careful, this simplistic code would not work at a location where the Sun never goes above or below the horizon. We would then need to compare the two altitude values to see which one is greater. But for illustrative purposes this is good enough. In our case, one altitude is almost 58 degrees above horizon and the other is almost 40 degrees below horizon, so it is easy to tell which is which. "
   ]
  },
  {
   "cell_type": "code",
   "execution_count": 7,
   "metadata": {},
   "outputs": [
    {
     "name": "stdout",
     "output_type": "stream",
     "text": [
      "Sun highest time:\n",
      "2020-04-12 13:04:56.620527+03:00\n",
      "Altitude (deg) : 57.909137222526745\n",
      "Sun lowest time:\n",
      "2020-04-13 01:04:24.888192+03:00\n",
      "Altitude (deg) : -39.880061509214244\n"
     ]
    }
   ],
   "source": [
    "min_max_events = sun_interpolator_deriv_alt.roots()\n",
    "for event_time in min_max_events:\n",
    "    pos = sun_alt_interpolator(event_time)\n",
    "    if pos > 0:\n",
    "        print(\"Sun highest time:\")\n",
    "    else:\n",
    "        print(\"Sun lowest time:\")\n",
    "    print(Time(event_time, format=\"unix\", scale=\"utc\").to_datetime(timezone=ist_timezone))\n",
    "    print(f\"Altitude (deg) : {sun_alt_interpolator(event_time)}\")"
   ]
  },
  {
   "cell_type": "markdown",
   "metadata": {},
   "source": [
    "Like the previous installment, we then present the results in a nice plot that shows the altitude over the duration.\n",
    "\n",
    "One trick is the addition of vertical lines that show Sunrise and Sunset times on the plot. Unsurprisingly, they are at the roots of the altitude function, providing a nice visual confirmation of our results.\n",
    "\n",
    "Finally, you can find the complete code [here in GitHub](https://github.com/egemenimre/satstuff/blob/master/examples/astropy/sun_rise_set.py)."
   ]
  },
  {
   "cell_type": "code",
   "execution_count": 8,
   "metadata": {},
   "outputs": [
    {
     "ename": "NameError",
     "evalue": "name 'plt' is not defined",
     "output_type": "error",
     "traceback": [
      "\u001b[0;31m---------------------------------------------------------------------------\u001b[0m",
      "\u001b[0;31mNameError\u001b[0m                                 Traceback (most recent call last)",
      "\u001b[0;32m<ipython-input-8-6f77f34e4141>\u001b[0m in \u001b[0;36m<module>\u001b[0;34m\u001b[0m\n\u001b[1;32m      3\u001b[0m \u001b[0;31m# ***** Plot the Sun Alt angles *****\u001b[0m\u001b[0;34m\u001b[0m\u001b[0;34m\u001b[0m\u001b[0;34m\u001b[0m\u001b[0m\n\u001b[1;32m      4\u001b[0m \u001b[0mtime_list\u001b[0m \u001b[0;34m=\u001b[0m \u001b[0mobs_times\u001b[0m\u001b[0;34m.\u001b[0m\u001b[0mto_datetime\u001b[0m\u001b[0;34m(\u001b[0m\u001b[0mtimezone\u001b[0m\u001b[0;34m=\u001b[0m\u001b[0mist_timezone\u001b[0m\u001b[0;34m)\u001b[0m\u001b[0;34m\u001b[0m\u001b[0;34m\u001b[0m\u001b[0m\n\u001b[0;32m----> 5\u001b[0;31m \u001b[0mplt\u001b[0m\u001b[0;34m.\u001b[0m\u001b[0mplot\u001b[0m\u001b[0;34m(\u001b[0m\u001b[0mtime_list\u001b[0m\u001b[0;34m,\u001b[0m \u001b[0msun_alt_az_list\u001b[0m\u001b[0;34m.\u001b[0m\u001b[0malt\u001b[0m\u001b[0;34m.\u001b[0m\u001b[0mdeg\u001b[0m\u001b[0;34m)\u001b[0m\u001b[0;34m\u001b[0m\u001b[0;34m\u001b[0m\u001b[0m\n\u001b[0m\u001b[1;32m      6\u001b[0m \u001b[0mplt\u001b[0m\u001b[0;34m.\u001b[0m\u001b[0mgrid\u001b[0m\u001b[0;34m(\u001b[0m\u001b[0;34m)\u001b[0m\u001b[0;34m\u001b[0m\u001b[0;34m\u001b[0m\u001b[0m\n\u001b[1;32m      7\u001b[0m \u001b[0;34m\u001b[0m\u001b[0m\n",
      "\u001b[0;31mNameError\u001b[0m: name 'plt' is not defined"
     ]
    }
   ],
   "source": [
    "%matplotlib inline\n",
    "\n",
    "# ***** Plot the Sun Alt angles *****\n",
    "time_list = obs_times.to_datetime(timezone=ist_timezone)\n",
    "plt.plot(time_list, sun_alt_az_list.alt.deg)\n",
    "plt.grid()\n",
    "\n",
    "# Add sunrise and sunset markers\n",
    "plt.axvline(sun_rise_time.to_datetime(timezone=ist_timezone), color=\"red\", ls=\"dashed\")\n",
    "plt.axvline(sun_set_time.to_datetime(timezone=ist_timezone), color=\"green\", ls=\"dashed\")\n",
    "\n",
    "# autoformat the time labels on x-axis\n",
    "# plt.gcf().autofmt_xdate()\n",
    "plt.xticks(rotation=90)\n",
    "\n",
    "plt.title(f\"Sun Altitude at Istanbul ({init_time.to_datetime(timezone=ist_timezone).date()})\")\n",
    "plt.xlabel(\"Time [Local]\")\n",
    "plt.ylabel(\"Altitude [deg]\")\n",
    "plt.legend([\"Sun\", \"Sun rise\", \"Sun set\"])\n",
    "\n",
    "plt.show()"
   ]
  },
  {
   "cell_type": "code",
   "execution_count": null,
   "metadata": {},
   "outputs": [],
   "source": []
  }
 ],
 "metadata": {
  "kernelspec": {
   "display_name": "Python 3",
   "language": "python",
   "name": "python3"
  },
  "language_info": {
   "codemirror_mode": {
    "name": "ipython",
    "version": 3
   },
   "file_extension": ".py",
   "mimetype": "text/x-python",
   "name": "python",
   "nbconvert_exporter": "python",
   "pygments_lexer": "ipython3",
   "version": "3.8.2"
  }
 },
 "nbformat": 4,
 "nbformat_minor": 4
}
